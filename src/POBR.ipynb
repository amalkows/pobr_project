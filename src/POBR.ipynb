{
 "cells": [
  {
   "cell_type": "code",
   "execution_count": 1,
   "metadata": {},
   "outputs": [],
   "source": [
    "################################################\n",
    "################## Biblioteki ##################\n",
    "################################################\n",
    "\n",
    "import numpy as np\n",
    "import cv2\n",
    "import matplotlib\n",
    "import copy\n",
    "import sys\n",
    "import math\n",
    "import time\n",
    "from queue import *\n",
    "from tqdm import tnrange, tqdm_notebook\n",
    "from matplotlib import pyplot as plt\n",
    "from numpy import linalg as LA"
   ]
  },
  {
   "cell_type": "code",
   "execution_count": 2,
   "metadata": {},
   "outputs": [],
   "source": [
    "###############################################\n",
    "####### Zabezpieczenie poziomu jasności #######\n",
    "###############################################\n",
    "\n",
    "def min_max(i):\n",
    "    return max(0, min(i, 255))"
   ]
  },
  {
   "cell_type": "code",
   "execution_count": 3,
   "metadata": {},
   "outputs": [],
   "source": [
    "###############################################\n",
    "############# Filtracja medianowa #############\n",
    "###############################################\n",
    "\n",
    "def median_filter(img, function, n = 3, colors = [0, 1, 2]):\n",
    "    result = copy.deepcopy(img)\n",
    "    for i in range(int(n/2), len(result) - int(n/2)):\n",
    "        for j in range(int(n/2), len(result[i]) - int(n/2)):\n",
    "            for c in colors:\n",
    "                result[i, j, c] = function(img[i-int(n/2):i+int(n/2)+1:, j-int(n/2):j+int(n/2)+1:, c])\n",
    "    return result"
   ]
  },
  {
   "cell_type": "code",
   "execution_count": 4,
   "metadata": {},
   "outputs": [],
   "source": [
    "################################################\n",
    "######## Operacje zamknięcia i otwarcia ########\n",
    "################################################\n",
    "\n",
    "def close_img(img, n = 3, colors = [0, 1, 2]):\n",
    "    return median_filter(median_filter(img, np.max, n, colors), np.min, n, colors)\n",
    "\n",
    "def open_img(img, n = 3, colors = [0, 1, 2]):\n",
    "    return median_filter(median_filter(img, np.min, n, colors), np.max, n, colors)\n",
    "\n",
    "def prepare_segments_open_close(img, n = 3, colors = [0, 1, 2]):\n",
    "    return open_img(close_img(img, n, colors), n, colors)\n",
    "\n",
    "def prepare_segments_close_open(img, n = 3, colors = [0, 1, 2]):\n",
    "    return close_img(open_img(img, n, colors), n, colors)"
   ]
  },
  {
   "cell_type": "code",
   "execution_count": 5,
   "metadata": {},
   "outputs": [],
   "source": [
    "################################################\n",
    "######## Zastosowanie filtru splotowego ########\n",
    "################################################\n",
    "\n",
    "def splot_filter(img, filter_matrix, colors = [0, 1, 2]):\n",
    "    result = copy.deepcopy(img)\n",
    "\n",
    "    size = int(len(filter_matrix[0])/2)\n",
    "    \n",
    "    for i in range(size, len(result) - size):\n",
    "        for j in range(size, len(result[i]) - size):\n",
    "            for c in [0, 1, 2]:\n",
    "                result[i, j, c] = min_max(np.sum(\n",
    "                    img[i-size:i + size + 1:, j-size:j + size + 1:, c] * filter_matrix)\n",
    "                                         )   "
   ]
  },
  {
   "cell_type": "code",
   "execution_count": 6,
   "metadata": {},
   "outputs": [],
   "source": [
    "################################################\n",
    "############ Filtr górnoprzepustowy ############\n",
    "################################################\n",
    "\n",
    "def filter_hight_pass(img, colors = [0, 1, 2]):\n",
    "    filter_matrix = np.array([[0, -1, 0], \n",
    "                            [-1, 5, -1], \n",
    "                            [0, -1, 0]])\n",
    "    \n",
    "    return splot_filter(img, filter_matrix, colors)\n",
    "    "
   ]
  },
  {
   "cell_type": "code",
   "execution_count": 7,
   "metadata": {},
   "outputs": [],
   "source": [
    "################################################\n",
    "################## Progowanie ##################\n",
    "################################################\n",
    "\n",
    "def thresholding(img, color, first_threshold, second_threshold = 256, difference = 0):\n",
    "    result = copy.deepcopy(img)\n",
    "    colors = np.array([0, 1, 2])\n",
    "    mask = np.ones(colors.shape, dtype=bool)  \n",
    "    mask[color] = 0\n",
    "        \n",
    "    for i in range(len(result)):\n",
    "        for j in range(len(result[i])):\n",
    "            if result[i, j, color] > first_threshold and (result[i, j, colors[mask]] < second_threshold).all() and (result[i, j, colors[mask]] + difference < result[i, j, color]).all():\n",
    "                result[i, j, color] = 255\n",
    "            else:\n",
    "                result[i, j, color] = 0\n",
    "\n",
    "    return np.array(result).astype('uint8')"
   ]
  },
  {
   "cell_type": "code",
   "execution_count": 8,
   "metadata": {},
   "outputs": [],
   "source": [
    "###############################################\n",
    "######### Wyświetlanei jednego koloru #########\n",
    "###############################################\n",
    "\n",
    "def reduce_color_to_one(img, color):\n",
    "    return np.array([[[img[i, j, color]] for j in range(len(img[i]))] for i in range(len(img))])"
   ]
  },
  {
   "cell_type": "code",
   "execution_count": 9,
   "metadata": {},
   "outputs": [],
   "source": [
    "##############################################\n",
    "############ Wykrywanie segmentów ############\n",
    "##############################################\n",
    "\n",
    "def find_segment(i, j, segment_index, segments_matrix, segments_descriptors, segmentation_image, min_area):\n",
    "    if(segments_matrix[i, j] == -1 and segmentation_image[i, j, 0] == 255):\n",
    "        min_i = 9999999\n",
    "        max_i = 0\n",
    "        min_j = 9999999\n",
    "        max_j = 0\n",
    "        area = 0\n",
    "        \n",
    "        q = Queue()\n",
    "        q.put((i,j), False)\n",
    "        while not q.empty():\n",
    "            point_i, point_j = q.get()\n",
    "            if not (point_i < 0 or point_j < 0 or point_i > len(segments_matrix) - 1 or point_j > len(segments_matrix[0]) - 1):\n",
    "                if segments_matrix[point_i, point_j] == -1 and segmentation_image[point_i, point_j, 0] == 255:\n",
    "                    segments_matrix[point_i, point_j] = segment_index\n",
    "                    area = area + 1\n",
    "                    if min_i > point_i:\n",
    "                        min_i = point_i\n",
    "                    if max_i < point_i:\n",
    "                        max_i = point_i\n",
    "                    if min_j > point_j:\n",
    "                        min_j = point_j\n",
    "                    if max_j < point_j:\n",
    "                        max_j = point_j\n",
    "                    \n",
    "                    q.put((point_i-1, point_j-1), False)\n",
    "                    q.put((point_i-1, point_j), False)\n",
    "                    q.put((point_i-1, point_j+1), False)\n",
    "                    q.put((point_i, point_j-1), False)\n",
    "                    q.put((point_i, point_j+1), False)\n",
    "                    q.put((point_i+1, point_j-1), False)\n",
    "                    q.put((point_i+1, point_j), False)\n",
    "                    q.put((point_i+1, point_j+1), False)\n",
    "        \n",
    "        if area < min_area:\n",
    "            segments_matrix[segments_matrix==segment_index] = -2\n",
    "            return False, []\n",
    "            \n",
    "        return True, [[min_i, max_i, min_j, max_j], [area, 0], []]\n",
    "    else:\n",
    "        return False, []"
   ]
  },
  {
   "cell_type": "code",
   "execution_count": 10,
   "metadata": {
    "scrolled": true
   },
   "outputs": [],
   "source": [
    "##############################################\n",
    "############ Wykrywanie segmentów ############\n",
    "##############################################\n",
    "\n",
    "def prepare_segments_matrix(segmentation_image, min_area):\n",
    "    segments_matrix = np.array([[-1 for _ in range(len(segmentation_image[0]))] for _ in range(len(segmentation_image))])\n",
    "    segments_descriptors = []\n",
    "    segments_count = 0\n",
    "    for i in tnrange(len(segmentation_image), desc = 'Identyfikowanie segmentów'):\n",
    "        for j in range(len(segmentation_image[i])):\n",
    "            if(segments_matrix[i, j] == -1):\n",
    "                succes, descriptor = find_segment(i, j, segments_count, segments_matrix, segments_descriptors, segmentation_image, min_area)\n",
    "                if succes:\n",
    "                    segments_descriptors.append(descriptor)\n",
    "                    segments_count = segments_count + 1\n",
    "    \n",
    "    segments_count = segments_count - 1\n",
    "    return segments_matrix, segments_descriptors, segments_count"
   ]
  },
  {
   "cell_type": "code",
   "execution_count": 11,
   "metadata": {},
   "outputs": [],
   "source": [
    "###################################################\n",
    "################## Liczenie cech ##################\n",
    "###################################################"
   ]
  },
  {
   "cell_type": "code",
   "execution_count": 12,
   "metadata": {},
   "outputs": [],
   "source": [
    "###################################################\n",
    "###################### Obwód ######################\n",
    "###################################################\n",
    "\n",
    "def calculate_circuit(segments_matrix, segments_descriptors, index):\n",
    "    result = 0\n",
    "    max_i = len(segments_matrix) - 1\n",
    "    max_j = len(segments_matrix[0]) - 1\n",
    "    for i in range(segments_descriptors[index][0][0], segments_descriptors[index][0][1] + 1):\n",
    "        for j in range(segments_descriptors[index][0][2], segments_descriptors[index][0][3] + 1):\n",
    "            if (segments_matrix[i, j] == index and (i == 0 or i == max_i or j == 0 or j == max_j)):\n",
    "                result = result + 1\n",
    "            elif (segments_matrix[i, j] == index \n",
    "                and (\n",
    "                    segments_matrix[i - 1, j - 1] != index or\n",
    "                    segments_matrix[i - 1, j] != index or\n",
    "                    segments_matrix[i - 1, j + 1] != index or\n",
    "                    segments_matrix[i, j - 1] != index or\n",
    "                    segments_matrix[i, j + 1] != index or\n",
    "                    segments_matrix[i + 1, j - 1] != index or\n",
    "                    segments_matrix[i + 1, j] != index or\n",
    "                    segments_matrix[i + 1, j + 1] != index\n",
    "                    )\n",
    "               ):\n",
    "                result = result + 1\n",
    "    return result"
   ]
  },
  {
   "cell_type": "code",
   "execution_count": 13,
   "metadata": {},
   "outputs": [],
   "source": [
    "###################################################\n",
    "################### Malinowska ####################\n",
    "###################################################\n",
    "\n",
    "def calculate_malinowska(S, L):\n",
    "    return (L/(2*math.sqrt(S*math.pi))) - 1"
   ]
  },
  {
   "cell_type": "code",
   "execution_count": 14,
   "metadata": {},
   "outputs": [],
   "source": [
    "###################################################\n",
    "##################### Moment ######################\n",
    "###################################################\n",
    "\n",
    "def calculate_moment(p, q, segments_matrix, segments_descriptors, index):\n",
    "    result = 0\n",
    "    for i in range(segments_descriptors[index][0][1] + 1 - segments_descriptors[index][0][0]):\n",
    "        for j in range(segments_descriptors[index][0][3] + 1 - segments_descriptors[index][0][2]):\n",
    "            if segments_matrix[i + segments_descriptors[index][0][0], j + segments_descriptors[index][0][2]] == index:\n",
    "                result = result + pow(i, p) * pow(j, q)\n",
    "                \n",
    "    return result"
   ]
  },
  {
   "cell_type": "code",
   "execution_count": 15,
   "metadata": {},
   "outputs": [],
   "source": [
    "###################################################\n",
    "################# Centrum obrazu ##################\n",
    "###################################################\n",
    "\n",
    "def find_center(segments_matrix, segments_descriptors, index):\n",
    "    m10 = calculate_moment(1, 0, segments_matrix, segments_descriptors, index);\n",
    "    m01 = calculate_moment(0, 1, segments_matrix, segments_descriptors, index);\n",
    "    m00 = calculate_moment(0, 0, segments_matrix, segments_descriptors, index);\n",
    "\n",
    "    return (m10/m00, m01/m00)"
   ]
  },
  {
   "cell_type": "code",
   "execution_count": 16,
   "metadata": {},
   "outputs": [],
   "source": [
    "###################################################\n",
    "################ Moment centralny #################\n",
    "###################################################\n",
    "\n",
    "def calculate_central_moment(p, q, segments_matrix, segments_descriptors, index, center_i = -1, center_j = -1):\n",
    "    result = 0\n",
    "    \n",
    "    if center_i == -1 or center_j == -1:\n",
    "        center_i, center_j = find_center(segments_matrix, segments_descriptors, index)\n",
    "        \n",
    "    for i in range(segments_descriptors[index][0][1] + 1 - segments_descriptors[index][0][0]):\n",
    "        for j in range(segments_descriptors[index][0][3] + 1 - segments_descriptors[index][0][2]):\n",
    "            if segments_matrix[i + segments_descriptors[index][0][0], j + segments_descriptors[index][0][2]] == index:\n",
    "                result = result + pow(i - center_i, p) * pow(j - center_j, q)\n",
    "                \n",
    "    return result"
   ]
  },
  {
   "cell_type": "code",
   "execution_count": 17,
   "metadata": {},
   "outputs": [],
   "source": [
    "###################################################\n",
    "########### Niezmienniki geometryczne #############\n",
    "###################################################\n",
    "\n",
    "def calculate_invariants(segments_matrix, segments_descriptors, index):\n",
    "    results = [0] * 11\n",
    "    \n",
    "    m00 = calculate_moment(0, 0, segments_matrix, segments_descriptors, index);\n",
    "    center_i, center_j = find_center(segments_matrix, segments_descriptors, index)\n",
    "    M = np.zeros((4, 4))\n",
    "    for i in range(4):\n",
    "        for j in range(4):\n",
    "            M[i, j] = calculate_central_moment(i, j, segments_matrix, segments_descriptors, index, center_i, center_j)\n",
    "    \n",
    "    #M1\n",
    "    results[1] = (M[2, 0] + M[0, 2]) / pow(m00, 2)\n",
    "    #M2\n",
    "    results[2] = (pow(M[2, 0] + M[0, 2], 2) + 4 * pow(M[1, 1], 2)) / pow(m00, 4)\n",
    "    #M3\n",
    "    results[3] = (pow(M[3, 0] - 3 * M[1, 2], 2) + pow(3 * M[2, 1] - M[0, 3], 2)) / pow(m00, 5)\n",
    "    #M4\n",
    "    results[4] = (pow(M[3, 0] + M[1, 2], 2) + pow(M[2, 1] + M[0, 3], 2)) / pow(m00, 5)    \n",
    "    #M5\n",
    "    results[5] = ((M[3, 0]- 3 * M[1, 2]) * (M[3, 0] + M[1, 2]) * \n",
    "                  (pow(M[3, 0]+ M[1, 2], 2) - 3 * pow(M[2, 1] + M[0, 3], 2)) +\n",
    "                 (3 * M[2, 1] - M[0, 3]) * (M[2, 1] + M[0, 3]) * \n",
    "                  (3 * pow(M[3, 0] + M[1, 2], 2) - pow(M[2, 1] + M[0, 3], 2))\n",
    "                 ) / pow(m00, 10)\n",
    "    #M6\n",
    "    results[6] = ((M[2, 0] - M[0, 2])*(pow(M[3, 0] + M[1, 2], 2) - pow(M[2, 1] + M[0, 3], 2)) +\n",
    "                 4 * M[1, 1] * (M[3, 0] + M[1, 2]) * (M[2, 1] + M[0, 3])) / pow(m00, 7)\n",
    "    #M7\n",
    "    results[7] = (M[2, 0] * M[0, 2] - pow(M[1, 1], 2)) / pow(m00, 4)\n",
    "    #M8\n",
    "    results[8] = (M[3, 0] * M[1, 2] +  M[2, 1] * M[0, 3] - pow(M[1, 2], 2) - pow(M[2, 1], 2)) / pow(m00, 5)    \n",
    "    #M9\n",
    "    results[9] = (M[2, 0] * (M[2, 1] * M[0, 3] - pow(M[1, 2], 2)) + \n",
    "                 M[0, 2] * (M[0, 3] * M[1, 2] - pow(M[2, 1], 2)) -\n",
    "                 M[1, 1] * (M[3, 0] * M[0, 3] - M[2, 1] * M[1, 2])) / pow(m00, 7)\n",
    "    #M10\n",
    "    results[10] = (pow(M[3, 0] * M[0, 3] - M[1, 2] * M[2, 1], 2) - \n",
    "                  4*(M[3, 0]*M[1, 2] - pow(M[2, 1], 2))*(M[0, 3] * M[2, 1] - M[1, 2])) / pow(m00, 10)\n",
    "    \n",
    "    return results"
   ]
  },
  {
   "cell_type": "code",
   "execution_count": 18,
   "metadata": {},
   "outputs": [],
   "source": [
    "###################################################\n",
    "########### Wykryj czerwoną strzałkę ##############\n",
    "###################################################\n",
    "\n",
    "def detect_red_arrow(img):\n",
    "    color = 2\n",
    "    treshold_1 = 40\n",
    "    treshold_2 = 170\n",
    "    difference = 35\n",
    "    median_range = 5\n",
    "    min_area = 100\n",
    "    print('\\nKolor czerwony')\n",
    "    print('\\rFiltrowanie medianowe', end=\"\")\n",
    "    img_after_filtering = prepare_segments_open_close(img, 5, [color])\n",
    "    print('\\rProgowanie                ', end=\"\")\n",
    "    img_after_tresholding = thresholding(img_after_filtering, color, treshold_1, treshold_2, difference)\n",
    "    print('\\rFiltrowanie medianowe'        , end=\"\")\n",
    "    img_after_filtering_2 = close_img(open_img(img_after_tresholding, 3, [color]), 3, [color])\n",
    "    print('\\rRedukcja do jednego koloru', end=\"\")\n",
    "    segmentation_image = reduce_color_to_one(img_after_filtering_2, color)\n",
    "    print('\\rIdentyfikacja segmentów                                ', end=\"\")\n",
    "    segments_matrix, segments_descriptors, segments_count = prepare_segments_matrix(segmentation_image, min_area)\n",
    "    print('\\rObliczenie cech                                ', end=\"\")\n",
    "    for i in tnrange(segments_count + 1, desc = 'Obliczenie wartości cech'):\n",
    "        segments_descriptors[i][1][1] = calculate_circuit(segments_matrix, segments_descriptors, i)\n",
    "\n",
    "        segments_descriptors[i][2] = calculate_invariants(segments_matrix, segments_descriptors, i)\n",
    "\n",
    "        segments_descriptors[i][2][0] = calculate_malinowska(segments_descriptors[i][1][0], segments_descriptors[i][1][1])   \n",
    "    detected = []\n",
    "    print('\\rAnaliza cech', end=\"\")\n",
    "    for i in tnrange(len(segments_descriptors), desc = 'Sprawdzenie segmentów'):\n",
    "        if (sum((\n",
    "            0.4 <= segments_descriptors[i][2][0] <= 3, \n",
    "            0.10 <= segments_descriptors[i][2][1] <= 0.6,\n",
    "            0.01 <= segments_descriptors[i][2][2] <= 0.5,\n",
    "            0.0001 <= segments_descriptors[i][2][3] <= 0.07,\n",
    "            0.0001 <= segments_descriptors[i][2][4] <= 0.03,\n",
    "            -3.5e-05 <= segments_descriptors[i][2][5] <= 3.0e-04,\n",
    "            -10.0e-04 <= segments_descriptors[i][2][6] <= 4.0e-03,\n",
    "            0.001 <= segments_descriptors[i][2][7] <= 0.5,\n",
    "            -6.0e-03 <= segments_descriptors[i][2][8] <= -9e-05,\n",
    "            -6.0e-04 <= segments_descriptors[i][2][9] <= 9.5e-05,\n",
    "            -8e-06 <= segments_descriptors[i][2][10] <= 2.0e-05\n",
    "        )) >= 11):\n",
    "            detected.append(i)\n",
    "                \n",
    "    return detected, segments_descriptors, segments_matrix"
   ]
  },
  {
   "cell_type": "code",
   "execution_count": 19,
   "metadata": {},
   "outputs": [],
   "source": [
    "###################################################\n",
    "########### Wykryj niebieską strzałkę #############\n",
    "###################################################\n",
    "\n",
    "def detect_blue_arrow(img):\n",
    "    color = 0\n",
    "    treshold_1 = 45\n",
    "    treshold_2 = 155\n",
    "    difference = 0\n",
    "    median_range = 3\n",
    "    min_area = 100\n",
    "    print('\\nKolor niebieski')\n",
    "    print('\\rProgowanie', end=\"\")\n",
    "    img_after_tresholding = thresholding(img, color, treshold_1, treshold_2, difference)\n",
    "    print('\\rFiltrowanie medianowe', end=\"\")\n",
    "    img_after_filtering = prepare_segments_close_open(img_after_tresholding, median_range, [color])\n",
    "    print('\\rRedukcja do jednego koloru', end=\"\")\n",
    "    segmentation_image = reduce_color_to_one(img_after_filtering, color)\n",
    "    print('\\rIdentyfikacja segmentów                                ', end=\"\")    \n",
    "    segments_matrix, segments_descriptors, segments_count = prepare_segments_matrix(segmentation_image, min_area)\n",
    "    print('\\rObliczenie cech                        ', end=\"\")    \n",
    "    for i in tnrange(segments_count + 1, desc = 'Obliczenie wartości cech'):\n",
    "        segments_descriptors[i][1][1] = calculate_circuit(segments_matrix, segments_descriptors, i)\n",
    "\n",
    "        segments_descriptors[i][2] = calculate_invariants(segments_matrix, segments_descriptors, i)\n",
    "\n",
    "        segments_descriptors[i][2][0] = calculate_malinowska(segments_descriptors[i][1][0], segments_descriptors[i][1][1])\n",
    "    detected = []\n",
    "    print('\\rAnaliza cech', end=\"\")\n",
    "    for i in tnrange(len(segments_descriptors), desc = 'Sprawdzenie segmentów'):\n",
    "        if (sum((\n",
    "            0.50 <= segments_descriptors[i][2][0] <= 2.0, \n",
    "            0.15 <= segments_descriptors[i][2][1] <= 0.4,\n",
    "            0.01 <= segments_descriptors[i][2][2] <= 0.15,\n",
    "            0.0003 <= segments_descriptors[i][2][3] <= 0.006,\n",
    "            8.0e-06 <= segments_descriptors[i][2][4] <= 9.0e-04,\n",
    "            -10.0e-08 <= segments_descriptors[i][2][5] <= 2.0e-06,\n",
    "            -3.0e-05 <= segments_descriptors[i][2][6] <= 2.0e-04,\n",
    "            0.006 <= segments_descriptors[i][2][7] <= 0.05,\n",
    "            -8.0e-04 <= segments_descriptors[i][2][8] <= -4.0e-05,\n",
    "            -7.0e-05 <= segments_descriptors[i][2][9] <= -2.0e-06,\n",
    "            -3.5e-07 <= segments_descriptors[i][2][10] <= 0\n",
    "        )) >= 11):\n",
    "            detected.append(i)\n",
    "    return detected, segments_descriptors, segments_matrix"
   ]
  },
  {
   "cell_type": "code",
   "execution_count": 20,
   "metadata": {},
   "outputs": [],
   "source": [
    "#####################################################\n",
    "###### Czy potencjalne strzałki tworzą logo #########\n",
    "#####################################################\n",
    "\n",
    "def is_connected(blue_arrow, red_arrow, segments_descriptors_blue, segments_descriptors_red, segments_matrix_blue, segments_matrix_red):\n",
    "    if (segments_descriptors_blue[blue_arrow][1][0] < segments_descriptors_red[red_arrow][1][0] \n",
    "        or 0.1 * segments_descriptors_blue[blue_arrow][1][0] > segments_descriptors_red[red_arrow][1][0]):\n",
    "        return False\n",
    "    \n",
    "    blue_x, blue_y = find_center(segments_matrix_blue, segments_descriptors_blue, blue_arrow)\n",
    "    red_x, red_y = find_center(segments_matrix_red, segments_descriptors_red, red_arrow)\n",
    "    \n",
    "    blue_x = blue_x + segments_descriptors_blue[blue_arrow][0][0]\n",
    "    blue_y = blue_y + segments_descriptors_blue[blue_arrow][0][2]\n",
    "    \n",
    "    red_x = red_x + segments_descriptors_red[red_arrow][0][0]\n",
    "    red_y = red_y + segments_descriptors_red[red_arrow][0][2]\n",
    "    \n",
    "    blue_p1 = np.array([segments_descriptors_blue[blue_arrow][0][0], segments_descriptors_blue[blue_arrow][0][2]])\n",
    "    blue_p2 = np.array([segments_descriptors_blue[blue_arrow][0][1], segments_descriptors_blue[blue_arrow][0][3]])\n",
    "\n",
    "    red_p1 = np.array([segments_descriptors_red[red_arrow][0][0], segments_descriptors_red[red_arrow][0][2]])\n",
    "    red_p2 = np.array([segments_descriptors_red[red_arrow][0][1], segments_descriptors_red[red_arrow][0][3]])\n",
    "    \n",
    "    blue_len = LA.norm(blue_p1 - blue_p2)\n",
    "    red_len = LA.norm(red_p1 - red_p2)\n",
    "\n",
    "    if LA.norm(np.array([blue_x, blue_y]) - np.array([red_x, red_y])) < (blue_len + red_len) * 0.37:\n",
    "        return True\n",
    "    else:\n",
    "        return False"
   ]
  },
  {
   "cell_type": "code",
   "execution_count": 21,
   "metadata": {},
   "outputs": [],
   "source": [
    "###################################################\n",
    "############# Wykryj logo Carrefour ###############\n",
    "###################################################\n",
    "\n",
    "def detect_carrefour_logo(img):\n",
    "    detected_blue, segments_descriptors_blue, segments_matrix_blue = detect_blue_arrow(img)\n",
    "    detected_red, segments_descriptors_red, segments_matrix_red = detect_red_arrow(img)\n",
    "    \n",
    "    red_blue_pairs = []\n",
    "    for b in detected_blue:\n",
    "        for r in detected_red:\n",
    "            if is_connected(b, r, segments_descriptors_blue, segments_descriptors_red, segments_matrix_blue, segments_matrix_red):\n",
    "                red_blue_pairs.append((b, r))\n",
    "                \n",
    "    detected_logos = []\n",
    "    for (b, r) in red_blue_pairs:\n",
    "        min_i = min(segments_descriptors_blue[b][0][0], segments_descriptors_red[r][0][0])\n",
    "        max_i = max(segments_descriptors_blue[b][0][1], segments_descriptors_red[r][0][1])\n",
    "        min_j = min(segments_descriptors_blue[b][0][2], segments_descriptors_red[r][0][2])\n",
    "        max_j = max(segments_descriptors_blue[b][0][3], segments_descriptors_red[r][0][3])\n",
    "\n",
    "        detected_logos.append([min_i, max_i, min_j, max_j])\n",
    "    print(\"Wykryto:\", len(detected_logos), \"logotypów.\")\n",
    "    result = img\n",
    "    for min_i, max_i, min_j, max_j in detected_logos:\n",
    "        result[[min_i, max_i], min_j:max_j] = [0, 0, 0]\n",
    "        result[min_i:max_i, [min_j, max_j]] = [0, 0, 0]\n",
    "        \n",
    "    return result"
   ]
  },
  {
   "cell_type": "code",
   "execution_count": 22,
   "metadata": {
    "scrolled": false
   },
   "outputs": [
    {
     "name": "stdout",
     "output_type": "stream",
     "text": [
      "\n",
      "Kolor niebieski\n",
      "Identyfikacja segmentów                                "
     ]
    },
    {
     "data": {
      "application/vnd.jupyter.widget-view+json": {
       "model_id": "c65afe2877744a4d9965d0991b6425cb",
       "version_major": 2,
       "version_minor": 0
      },
      "text/plain": [
       "A Jupyter Widget"
      ]
     },
     "metadata": {},
     "output_type": "display_data"
    },
    {
     "name": "stdout",
     "output_type": "stream",
     "text": [
      "\n",
      "Obliczenie cech                        "
     ]
    },
    {
     "data": {
      "application/vnd.jupyter.widget-view+json": {
       "model_id": "f5819db7068c4b5b8595f8bebc5dd8c1",
       "version_major": 2,
       "version_minor": 0
      },
      "text/plain": [
       "A Jupyter Widget"
      ]
     },
     "metadata": {},
     "output_type": "display_data"
    },
    {
     "name": "stdout",
     "output_type": "stream",
     "text": [
      "\n",
      "Analiza cech"
     ]
    },
    {
     "data": {
      "application/vnd.jupyter.widget-view+json": {
       "model_id": "9ebc86d278ca4037a6b3dee27225c1f1",
       "version_major": 2,
       "version_minor": 0
      },
      "text/plain": [
       "A Jupyter Widget"
      ]
     },
     "metadata": {},
     "output_type": "display_data"
    },
    {
     "name": "stdout",
     "output_type": "stream",
     "text": [
      "\n",
      "\n",
      "Kolor czerwony\n",
      "Identyfikacja segmentów                                "
     ]
    },
    {
     "data": {
      "application/vnd.jupyter.widget-view+json": {
       "model_id": "d7f066fd603a43a7aff05fd956f1575d",
       "version_major": 2,
       "version_minor": 0
      },
      "text/plain": [
       "A Jupyter Widget"
      ]
     },
     "metadata": {},
     "output_type": "display_data"
    },
    {
     "name": "stdout",
     "output_type": "stream",
     "text": [
      "\n",
      "Obliczenie cech                                "
     ]
    },
    {
     "data": {
      "application/vnd.jupyter.widget-view+json": {
       "model_id": "19941b5a7db047898271ffc31830fc3e",
       "version_major": 2,
       "version_minor": 0
      },
      "text/plain": [
       "A Jupyter Widget"
      ]
     },
     "metadata": {},
     "output_type": "display_data"
    },
    {
     "name": "stdout",
     "output_type": "stream",
     "text": [
      "\n",
      "Analiza cech"
     ]
    },
    {
     "data": {
      "application/vnd.jupyter.widget-view+json": {
       "model_id": "4b00b471ab354724b5121cf31aa705d5",
       "version_major": 2,
       "version_minor": 0
      },
      "text/plain": [
       "A Jupyter Widget"
      ]
     },
     "metadata": {},
     "output_type": "display_data"
    },
    {
     "name": "stdout",
     "output_type": "stream",
     "text": [
      "\n",
      "Wykryto: 1 logotypów.\n",
      "Czas trwania:  73.86029148101807\n"
     ]
    },
    {
     "data": {
      "text/plain": [
       "True"
      ]
     },
     "execution_count": 22,
     "metadata": {},
     "output_type": "execute_result"
    }
   ],
   "source": [
    "###################################################\n",
    "############### Skrypt wykonujący #################\n",
    "###################################################\n",
    "\n",
    "name = \"1\"\n",
    "extention = \".jpg\"\n",
    "\n",
    "time1 = time.time()\n",
    "img = cv2.imread(name+extention, 3)\n",
    "detected_img = detect_carrefour_logo(img)\n",
    "time2 = time.time()\n",
    "print(\"Czas trwania: \", (time2-time1))\n",
    "\n",
    "cv2.imshow('Result', detected_img)\n",
    "cv2.waitKey(0)\n",
    "cv2.destroyAllWindows()\n",
    "\n",
    "cv2.imwrite(name+\"_result\"+extention, detected_img)"
   ]
  },
  {
   "cell_type": "code",
   "execution_count": null,
   "metadata": {},
   "outputs": [],
   "source": []
  }
 ],
 "metadata": {
  "kernelspec": {
   "display_name": "Python 3",
   "language": "python",
   "name": "python3"
  },
  "language_info": {
   "codemirror_mode": {
    "name": "ipython",
    "version": 3
   },
   "file_extension": ".py",
   "mimetype": "text/x-python",
   "name": "python",
   "nbconvert_exporter": "python",
   "pygments_lexer": "ipython3",
   "version": "3.6.4"
  }
 },
 "nbformat": 4,
 "nbformat_minor": 2
}
